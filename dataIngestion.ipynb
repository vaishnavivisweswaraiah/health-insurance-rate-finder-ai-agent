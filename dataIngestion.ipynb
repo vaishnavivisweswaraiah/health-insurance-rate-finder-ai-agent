{
 "cells": [
  {
   "cell_type": "code",
   "execution_count": 1,
   "id": "c38575e8",
   "metadata": {},
   "outputs": [
    {
     "name": "stderr",
     "output_type": "stream",
     "text": [
      "Setting default log level to \"WARN\".\n",
      "To adjust logging level use sc.setLogLevel(newLevel). For SparkR, use setLogLevel(newLevel).\n",
      "25/05/12 17:42:35 WARN NativeCodeLoader: Unable to load native-hadoop library for your platform... using builtin-java classes where applicable\n"
     ]
    }
   ],
   "source": [
    "import json\n",
    "import yaml\n",
    "import pyspark.sql.functions as f\n",
    "from src.utils import dataframe_utils\n",
    "from src.utils import request_utils\n",
    "from urllib.parse import urlparse\n",
    "import os\n",
    "from datetime import datetime"
   ]
  },
  {
   "cell_type": "code",
   "execution_count": 2,
   "id": "14798509",
   "metadata": {},
   "outputs": [
    {
     "name": "stdout",
     "output_type": "stream",
     "text": [
      "{\n",
      "  \"apis\": {\n",
      "    \"health_insurance_rate_puf\": {\n",
      "      \"description\": \"Public Use File API for Health Rate Data\",\n",
      "      \"version\": 1,\n",
      "      \"endpoint\": \"https://data.healthcare.gov/api/1/metastore/schemas/dataset/items/672d5f6a-b8a7-4ebe-87f6-67db641e192d\",\n",
      "      \"method\": \"GET\",\n",
      "      \"params\": [],\n",
      "      \"response\": {\n",
      "        \"format\": \"JSON\"\n",
      "      }\n",
      "    }\n",
      "  }\n",
      "}\n"
     ]
    }
   ],
   "source": [
    "# Read config yaml file\n",
    "with open(\"api_config.yaml\") as f:\n",
    "    config_data=yaml.safe_load(f)\n",
    "# this is just for printing\n",
    "json_data=json.dumps(config_data,indent=2)\n",
    "print(json_data)"
   ]
  },
  {
   "cell_type": "code",
   "execution_count": 3,
   "id": "9720776c",
   "metadata": {},
   "outputs": [],
   "source": [
    "rate_api_url=config_data['apis']['health_insurance_rate_puf']['endpoint']\n",
    "\n",
    "meta_data = request_utils.make_api_call(rate_api_url)\n",
    "with open(\"meta_data_files/health_insurance_rate_puf.json\",'w') as meta_file:\n",
    "    json.dump(meta_data.json(),meta_file,indent=2)\n",
    "\n",
    "\n",
    "\n"
   ]
  },
  {
   "cell_type": "code",
   "execution_count": 4,
   "id": "a943639a",
   "metadata": {},
   "outputs": [
    {
     "name": "stdout",
     "output_type": "stream",
     "text": [
      "https://data.healthcare.gov/datafile/py2025/Rate_PUF.csv\n",
      "✅ File downloaded successfully.\n"
     ]
    }
   ],
   "source": [
    "# extract download link and format \n",
    "with open(\"meta_data_files/health_insurance_rate_puf.json\",'r') as meta_file:\n",
    "    meta_data=json.load(meta_file)\n",
    "    format=meta_data['distribution'][0]['format']\n",
    "    data_url=meta_data['distribution'][0]['downloadURL']\n",
    "    print(data_url)\n",
    "# make API call \n",
    "data_response = request_utils.make_api_call(data_url)\n",
    "\n",
    "# Step 2: Extract filename from URL\n",
    "parsed_url = urlparse(data_url)\n",
    "filename = os.path.basename(parsed_url.path)  # gets 'Rate_PUF.csv'\n",
    "# Optional: Verify it's a good response\n",
    "# Step 3:Save initial Raw file\n",
    "if data_response.status_code == 200:\n",
    "    with open(f\"data/bronze_{filename}\", \"wb\") as f:\n",
    "        f.write(data_response.content)\n",
    "    print(\"✅ File downloaded successfully.\")\n",
    "else:\n",
    "    raise Exception(f\"❌ Failed to download file. Status: {data_response.status_code}\")\n",
    "\n",
    "\n",
    "\n",
    "\n",
    "\n",
    "\n"
   ]
  },
  {
   "cell_type": "markdown",
   "id": "24e0401d",
   "metadata": {},
   "source": [
    "## Handle null values or missing -Silver layer"
   ]
  },
  {
   "cell_type": "code",
   "execution_count": 5,
   "id": "3cfbd819",
   "metadata": {},
   "outputs": [
    {
     "name": "stderr",
     "output_type": "stream",
     "text": [
      "                                                                                \r"
     ]
    },
    {
     "ename": "AttributeError",
     "evalue": "'_io.BufferedWriter' object has no attribute 'col'",
     "output_type": "error",
     "traceback": [
      "\u001b[0;31m---------------------------------------------------------------------------\u001b[0m",
      "\u001b[0;31mAttributeError\u001b[0m                            Traceback (most recent call last)",
      "Cell \u001b[0;32mIn[5], line 6\u001b[0m\n\u001b[1;32m      4\u001b[0m read_file\u001b[38;5;241m=\u001b[39mdataframe_utils\u001b[38;5;241m.\u001b[39mread_data_spark(file_path\u001b[38;5;241m=\u001b[39m\u001b[38;5;124mf\u001b[39m\u001b[38;5;124m\"\u001b[39m\u001b[38;5;124mdata/bronze_\u001b[39m\u001b[38;5;132;01m{\u001b[39;00mfilename\u001b[38;5;132;01m}\u001b[39;00m\u001b[38;5;124m\"\u001b[39m,file_format\u001b[38;5;241m=\u001b[39m\u001b[38;5;28mformat\u001b[39m,header\u001b[38;5;241m=\u001b[39m\u001b[38;5;28;01mTrue\u001b[39;00m,inferSchema\u001b[38;5;241m=\u001b[39m\u001b[38;5;28;01mTrue\u001b[39;00m)\n\u001b[1;32m      5\u001b[0m \u001b[38;5;66;03m# Convert all columns to string type\u001b[39;00m\n\u001b[0;32m----> 6\u001b[0m rates_df \u001b[38;5;241m=\u001b[39m read_file\u001b[38;5;241m.\u001b[39mselect([f\u001b[38;5;241m.\u001b[39mcol(c)\u001b[38;5;241m.\u001b[39mcast(\u001b[38;5;124m\"\u001b[39m\u001b[38;5;124mstring\u001b[39m\u001b[38;5;124m\"\u001b[39m) \u001b[38;5;28;01mfor\u001b[39;00m c \u001b[38;5;129;01min\u001b[39;00m read_file\u001b[38;5;241m.\u001b[39mcolumns])\n\u001b[1;32m      8\u001b[0m \u001b[38;5;66;03m# Fill all null values with empty strings\u001b[39;00m\n\u001b[1;32m      9\u001b[0m rates_df \u001b[38;5;241m=\u001b[39m rates_df\u001b[38;5;241m.\u001b[39mfillna(\u001b[38;5;124m\"\u001b[39m\u001b[38;5;124m\"\u001b[39m)\n",
      "Cell \u001b[0;32mIn[5], line 6\u001b[0m, in \u001b[0;36m<listcomp>\u001b[0;34m(.0)\u001b[0m\n\u001b[1;32m      4\u001b[0m read_file\u001b[38;5;241m=\u001b[39mdataframe_utils\u001b[38;5;241m.\u001b[39mread_data_spark(file_path\u001b[38;5;241m=\u001b[39m\u001b[38;5;124mf\u001b[39m\u001b[38;5;124m\"\u001b[39m\u001b[38;5;124mdata/bronze_\u001b[39m\u001b[38;5;132;01m{\u001b[39;00mfilename\u001b[38;5;132;01m}\u001b[39;00m\u001b[38;5;124m\"\u001b[39m,file_format\u001b[38;5;241m=\u001b[39m\u001b[38;5;28mformat\u001b[39m,header\u001b[38;5;241m=\u001b[39m\u001b[38;5;28;01mTrue\u001b[39;00m,inferSchema\u001b[38;5;241m=\u001b[39m\u001b[38;5;28;01mTrue\u001b[39;00m)\n\u001b[1;32m      5\u001b[0m \u001b[38;5;66;03m# Convert all columns to string type\u001b[39;00m\n\u001b[0;32m----> 6\u001b[0m rates_df \u001b[38;5;241m=\u001b[39m read_file\u001b[38;5;241m.\u001b[39mselect([\u001b[43mf\u001b[49m\u001b[38;5;241;43m.\u001b[39;49m\u001b[43mcol\u001b[49m(c)\u001b[38;5;241m.\u001b[39mcast(\u001b[38;5;124m\"\u001b[39m\u001b[38;5;124mstring\u001b[39m\u001b[38;5;124m\"\u001b[39m) \u001b[38;5;28;01mfor\u001b[39;00m c \u001b[38;5;129;01min\u001b[39;00m read_file\u001b[38;5;241m.\u001b[39mcolumns])\n\u001b[1;32m      8\u001b[0m \u001b[38;5;66;03m# Fill all null values with empty strings\u001b[39;00m\n\u001b[1;32m      9\u001b[0m rates_df \u001b[38;5;241m=\u001b[39m rates_df\u001b[38;5;241m.\u001b[39mfillna(\u001b[38;5;124m\"\u001b[39m\u001b[38;5;124m\"\u001b[39m)\n",
      "\u001b[0;31mAttributeError\u001b[0m: '_io.BufferedWriter' object has no attribute 'col'"
     ]
    }
   ],
   "source": [
    "filename=\"Rate_PUF.csv\"\n",
    "format='csv'\n",
    "# 1: Read using PySpark\n",
    "read_file=dataframe_utils.read_data_spark(file_path=f\"data/bronze_{filename}\",file_format=format,header=True,inferSchema=True)\n",
    "# Convert all columns to string type\n",
    "rates_df = read_file.select([f.col(c).cast(\"string\") for c in read_file.columns])\n",
    "\n",
    "# Fill all null values with empty strings\n",
    "rates_df = rates_df.fillna(\"\")\n",
    "\n",
    "# Get today's date in YYYYMMDD format\n",
    "today_str = datetime.today().strftime(\"%Y%m%d\")\n",
    "\n",
    "# Add column with the same date for all rows\n",
    "rates_df = rates_df.withColumn(\"ImportDate\", f.lit(today_str))\n",
    "rates_df.show(5)"
   ]
  },
  {
   "cell_type": "code",
   "execution_count": null,
   "id": "6a1787f6",
   "metadata": {},
   "outputs": [
    {
     "name": "stderr",
     "output_type": "stream",
     "text": [
      "                                                                                \r"
     ]
    }
   ],
   "source": [
    "# save as Silver dataset\n",
    "dataframe_utils.write_data_spark(file_path=f\"data/silver_{filename}\",file_format='csv',df=rates_df,mode='append',partition_by=['ImportDate','StateCode','Age'],header=True)"
   ]
  },
  {
   "cell_type": "markdown",
   "id": "29013bce",
   "metadata": {},
   "source": [
    "## Gold Layer transformations"
   ]
  },
  {
   "cell_type": "code",
   "execution_count": null,
   "id": "f48e094e",
   "metadata": {},
   "outputs": [
    {
     "name": "stderr",
     "output_type": "stream",
     "text": [
      "                                                                                \r"
     ]
    },
    {
     "name": "stdout",
     "output_type": "stream",
     "text": [
      "root\n",
      " |-- BusinessYear: string (nullable = true)\n",
      " |-- IssuerId: string (nullable = true)\n",
      " |-- SourceName: string (nullable = true)\n",
      " |-- RateEffectiveDate: string (nullable = true)\n",
      " |-- RateExpirationDate: string (nullable = true)\n",
      " |-- PlanId: string (nullable = true)\n",
      " |-- RatingAreaId: string (nullable = true)\n",
      " |-- Tobacco: string (nullable = true)\n",
      " |-- IndividualRate: string (nullable = true)\n",
      " |-- IndividualTobaccoRate: string (nullable = true)\n",
      " |-- Couple: string (nullable = true)\n",
      " |-- PrimarySubscriberAndOneDependent: string (nullable = true)\n",
      " |-- PrimarySubscriberAndTwoDependents: string (nullable = true)\n",
      " |-- PrimarySubscriberAndThreeOrMoreDependents: string (nullable = true)\n",
      " |-- CoupleAndOneDependent: string (nullable = true)\n",
      " |-- CoupleAndTwoDependents: string (nullable = true)\n",
      " |-- CoupleAndThreeOrMoreDependents: string (nullable = true)\n",
      " |-- ImportDate: integer (nullable = true)\n",
      " |-- StateCode: string (nullable = true)\n",
      " |-- Age: string (nullable = true)\n",
      "\n"
     ]
    }
   ],
   "source": [
    "# 1: Read using PySpark\n",
    "filename=\"Rate_PUF.csv\"\n",
    "format='csv'\n",
    "spark_rates_df=dataframe_utils.read_data_spark(file_path=f\"data/silver_{filename}\",file_format=format,header=True,inferSchema=False)\n",
    "spark_rates_df.printSchema()"
   ]
  },
  {
   "cell_type": "code",
   "execution_count": null,
   "id": "8f208b10",
   "metadata": {},
   "outputs": [
    {
     "name": "stderr",
     "output_type": "stream",
     "text": [
      "[Stage 33:==============================================>         (52 + 8) / 63]\r"
     ]
    },
    {
     "name": "stdout",
     "output_type": "stream",
     "text": [
      "+------------+--------+----------+-----------------+------------------+--------------+--------------+-----------------------------+--------------+---------------------+------+--------------------------------+---------------------------------+-----------------------------------------+---------------------+----------------------+------------------------------+----------+---------+-----------+---------------------------------------------------------------------------------------------------------------------------------------------------------------------------------------------------------------------------------------------------------------------------------------------------------------------------------------------------------------------------------------------------------------------------------------------------------------------------------------------------------------------------------------------------+------+\n",
      "|BusinessYear|IssuerId|SourceName|RateEffectiveDate|RateExpirationDate|PlanId        |RatingAreaId  |Tobacco                      |IndividualRate|IndividualTobaccoRate|Couple|PrimarySubscriberAndOneDependent|PrimarySubscriberAndTwoDependents|PrimarySubscriberAndThreeOrMoreDependents|CoupleAndOneDependent|CoupleAndTwoDependents|CoupleAndThreeOrMoreDependents|ImportDate|StateCode|Age        |full_text                                                                                                                                                                                                                                                                                                                                                                                                                                                                                                                                          |row_id|\n",
      "+------------+--------+----------+-----------------+------------------+--------------+--------------+-----------------------------+--------------+---------------------+------+--------------------------------+---------------------------------+-----------------------------------------+---------------------+----------------------+------------------------------+----------+---------+-----------+---------------------------------------------------------------------------------------------------------------------------------------------------------------------------------------------------------------------------------------------------------------------------------------------------------------------------------------------------------------------------------------------------------------------------------------------------------------------------------------------------------------------------------------------------+------+\n",
      "|2025        |44228   |HIOS      |2025-01-01       |2025-12-31        |44228FL0040001|Rating Area 30|No Preference                |1163.76       |NULL                 |NULL  |NULL                            |NULL                             |NULL                                     |NULL                 |NULL                  |NULL                          |20250430  |FL       |64 and over|BusinessYear: 2025 | IssuerId: 44228 | SourceName: HIOS | RateEffectiveDate: 2025-01-01 | RateExpirationDate: 2025-12-31 | PlanId: 44228FL0040001 | RatingAreaId: Rating Area 30 | Tobacco: No Preference | IndividualRate: 1163.76 | IndividualTobaccoRate:  | Couple:  | PrimarySubscriberAndOneDependent:  | PrimarySubscriberAndTwoDependents:  | PrimarySubscriberAndThreeOrMoreDependents:  | CoupleAndOneDependent:  | CoupleAndTwoDependents:  | CoupleAndThreeOrMoreDependents:  | StateCode: FL | Age: 64 and over                       |0     |\n",
      "|2025        |19898   |HIOS      |2025-01-01       |2025-12-31        |19898FL0340095|Rating Area 41|Tobacco User/Non-Tobacco User|1178.97       |1414.76              |NULL  |NULL                            |NULL                             |NULL                                     |NULL                 |NULL                  |NULL                          |20250430  |FL       |64 and over|BusinessYear: 2025 | IssuerId: 19898 | SourceName: HIOS | RateEffectiveDate: 2025-01-01 | RateExpirationDate: 2025-12-31 | PlanId: 19898FL0340095 | RatingAreaId: Rating Area 41 | Tobacco: Tobacco User/Non-Tobacco User | IndividualRate: 1178.97 | IndividualTobaccoRate: 1414.76 | Couple:  | PrimarySubscriberAndOneDependent:  | PrimarySubscriberAndTwoDependents:  | PrimarySubscriberAndThreeOrMoreDependents:  | CoupleAndOneDependent:  | CoupleAndTwoDependents:  | CoupleAndThreeOrMoreDependents:  | StateCode: FL | Age: 64 and over|1     |\n",
      "|2025        |44228   |HIOS      |2025-01-01       |2025-12-31        |44228FL0040001|Rating Area 34|No Preference                |1161.06       |NULL                 |NULL  |NULL                            |NULL                             |NULL                                     |NULL                 |NULL                  |NULL                          |20250430  |FL       |64 and over|BusinessYear: 2025 | IssuerId: 44228 | SourceName: HIOS | RateEffectiveDate: 2025-01-01 | RateExpirationDate: 2025-12-31 | PlanId: 44228FL0040001 | RatingAreaId: Rating Area 34 | Tobacco: No Preference | IndividualRate: 1161.06 | IndividualTobaccoRate:  | Couple:  | PrimarySubscriberAndOneDependent:  | PrimarySubscriberAndTwoDependents:  | PrimarySubscriberAndThreeOrMoreDependents:  | CoupleAndOneDependent:  | CoupleAndTwoDependents:  | CoupleAndThreeOrMoreDependents:  | StateCode: FL | Age: 64 and over                       |2     |\n",
      "|2025        |19898   |HIOS      |2025-01-01       |2025-12-31        |19898FL0340095|Rating Area 45|Tobacco User/Non-Tobacco User|1531.95       |1838.34              |NULL  |NULL                            |NULL                             |NULL                                     |NULL                 |NULL                  |NULL                          |20250430  |FL       |64 and over|BusinessYear: 2025 | IssuerId: 19898 | SourceName: HIOS | RateEffectiveDate: 2025-01-01 | RateExpirationDate: 2025-12-31 | PlanId: 19898FL0340095 | RatingAreaId: Rating Area 45 | Tobacco: Tobacco User/Non-Tobacco User | IndividualRate: 1531.95 | IndividualTobaccoRate: 1838.34 | Couple:  | PrimarySubscriberAndOneDependent:  | PrimarySubscriberAndTwoDependents:  | PrimarySubscriberAndThreeOrMoreDependents:  | CoupleAndOneDependent:  | CoupleAndTwoDependents:  | CoupleAndThreeOrMoreDependents:  | StateCode: FL | Age: 64 and over|3     |\n",
      "|2025        |44228   |HIOS      |2025-01-01       |2025-12-31        |44228FL0040001|Rating Area 35|No Preference                |1045.44       |NULL                 |NULL  |NULL                            |NULL                             |NULL                                     |NULL                 |NULL                  |NULL                          |20250430  |FL       |64 and over|BusinessYear: 2025 | IssuerId: 44228 | SourceName: HIOS | RateEffectiveDate: 2025-01-01 | RateExpirationDate: 2025-12-31 | PlanId: 44228FL0040001 | RatingAreaId: Rating Area 35 | Tobacco: No Preference | IndividualRate: 1045.44 | IndividualTobaccoRate:  | Couple:  | PrimarySubscriberAndOneDependent:  | PrimarySubscriberAndTwoDependents:  | PrimarySubscriberAndThreeOrMoreDependents:  | CoupleAndOneDependent:  | CoupleAndTwoDependents:  | CoupleAndThreeOrMoreDependents:  | StateCode: FL | Age: 64 and over                       |4     |\n",
      "|2025        |19898   |HIOS      |2025-01-01       |2025-12-31        |19898FL0340095|Rating Area 58|Tobacco User/Non-Tobacco User|1250.34       |1500.41              |NULL  |NULL                            |NULL                             |NULL                                     |NULL                 |NULL                  |NULL                          |20250430  |FL       |64 and over|BusinessYear: 2025 | IssuerId: 19898 | SourceName: HIOS | RateEffectiveDate: 2025-01-01 | RateExpirationDate: 2025-12-31 | PlanId: 19898FL0340095 | RatingAreaId: Rating Area 58 | Tobacco: Tobacco User/Non-Tobacco User | IndividualRate: 1250.34 | IndividualTobaccoRate: 1500.41 | Couple:  | PrimarySubscriberAndOneDependent:  | PrimarySubscriberAndTwoDependents:  | PrimarySubscriberAndThreeOrMoreDependents:  | CoupleAndOneDependent:  | CoupleAndTwoDependents:  | CoupleAndThreeOrMoreDependents:  | StateCode: FL | Age: 64 and over|5     |\n",
      "|2025        |44228   |HIOS      |2025-01-01       |2025-12-31        |44228FL0040001|Rating Area 40|No Preference                |1083.21       |NULL                 |NULL  |NULL                            |NULL                             |NULL                                     |NULL                 |NULL                  |NULL                          |20250430  |FL       |64 and over|BusinessYear: 2025 | IssuerId: 44228 | SourceName: HIOS | RateEffectiveDate: 2025-01-01 | RateExpirationDate: 2025-12-31 | PlanId: 44228FL0040001 | RatingAreaId: Rating Area 40 | Tobacco: No Preference | IndividualRate: 1083.21 | IndividualTobaccoRate:  | Couple:  | PrimarySubscriberAndOneDependent:  | PrimarySubscriberAndTwoDependents:  | PrimarySubscriberAndThreeOrMoreDependents:  | CoupleAndOneDependent:  | CoupleAndTwoDependents:  | CoupleAndThreeOrMoreDependents:  | StateCode: FL | Age: 64 and over                       |6     |\n",
      "|2025        |19898   |HIOS      |2025-01-01       |2025-12-31        |19898FL0340095|Rating Area 61|Tobacco User/Non-Tobacco User|1493.1        |1791.72              |NULL  |NULL                            |NULL                             |NULL                                     |NULL                 |NULL                  |NULL                          |20250430  |FL       |64 and over|BusinessYear: 2025 | IssuerId: 19898 | SourceName: HIOS | RateEffectiveDate: 2025-01-01 | RateExpirationDate: 2025-12-31 | PlanId: 19898FL0340095 | RatingAreaId: Rating Area 61 | Tobacco: Tobacco User/Non-Tobacco User | IndividualRate: 1493.1 | IndividualTobaccoRate: 1791.72 | Couple:  | PrimarySubscriberAndOneDependent:  | PrimarySubscriberAndTwoDependents:  | PrimarySubscriberAndThreeOrMoreDependents:  | CoupleAndOneDependent:  | CoupleAndTwoDependents:  | CoupleAndThreeOrMoreDependents:  | StateCode: FL | Age: 64 and over |7     |\n",
      "|2025        |44228   |HIOS      |2025-01-01       |2025-12-31        |44228FL0040001|Rating Area 41|No Preference                |1089.03       |NULL                 |NULL  |NULL                            |NULL                             |NULL                                     |NULL                 |NULL                  |NULL                          |20250430  |FL       |64 and over|BusinessYear: 2025 | IssuerId: 44228 | SourceName: HIOS | RateEffectiveDate: 2025-01-01 | RateExpirationDate: 2025-12-31 | PlanId: 44228FL0040001 | RatingAreaId: Rating Area 41 | Tobacco: No Preference | IndividualRate: 1089.03 | IndividualTobaccoRate:  | Couple:  | PrimarySubscriberAndOneDependent:  | PrimarySubscriberAndTwoDependents:  | PrimarySubscriberAndThreeOrMoreDependents:  | CoupleAndOneDependent:  | CoupleAndTwoDependents:  | CoupleAndThreeOrMoreDependents:  | StateCode: FL | Age: 64 and over                       |8     |\n",
      "|2025        |19898   |HIOS      |2025-01-01       |2025-12-31        |19898FL0340095|Rating Area 63|Tobacco User/Non-Tobacco User|1800.78       |2160.94              |NULL  |NULL                            |NULL                             |NULL                                     |NULL                 |NULL                  |NULL                          |20250430  |FL       |64 and over|BusinessYear: 2025 | IssuerId: 19898 | SourceName: HIOS | RateEffectiveDate: 2025-01-01 | RateExpirationDate: 2025-12-31 | PlanId: 19898FL0340095 | RatingAreaId: Rating Area 63 | Tobacco: Tobacco User/Non-Tobacco User | IndividualRate: 1800.78 | IndividualTobaccoRate: 2160.94 | Couple:  | PrimarySubscriberAndOneDependent:  | PrimarySubscriberAndTwoDependents:  | PrimarySubscriberAndThreeOrMoreDependents:  | CoupleAndOneDependent:  | CoupleAndTwoDependents:  | CoupleAndThreeOrMoreDependents:  | StateCode: FL | Age: 64 and over|9     |\n",
      "|2025        |44228   |HIOS      |2025-01-01       |2025-12-31        |44228FL0040001|Rating Area 42|No Preference                |1038.57       |NULL                 |NULL  |NULL                            |NULL                             |NULL                                     |NULL                 |NULL                  |NULL                          |20250430  |FL       |64 and over|BusinessYear: 2025 | IssuerId: 44228 | SourceName: HIOS | RateEffectiveDate: 2025-01-01 | RateExpirationDate: 2025-12-31 | PlanId: 44228FL0040001 | RatingAreaId: Rating Area 42 | Tobacco: No Preference | IndividualRate: 1038.57 | IndividualTobaccoRate:  | Couple:  | PrimarySubscriberAndOneDependent:  | PrimarySubscriberAndTwoDependents:  | PrimarySubscriberAndThreeOrMoreDependents:  | CoupleAndOneDependent:  | CoupleAndTwoDependents:  | CoupleAndThreeOrMoreDependents:  | StateCode: FL | Age: 64 and over                       |10    |\n",
      "|2025        |19898   |HIOS      |2025-01-01       |2025-12-31        |19898FL0350001|Rating Area 43|Tobacco User/Non-Tobacco User|1755.48       |2106.58              |NULL  |NULL                            |NULL                             |NULL                                     |NULL                 |NULL                  |NULL                          |20250430  |FL       |64 and over|BusinessYear: 2025 | IssuerId: 19898 | SourceName: HIOS | RateEffectiveDate: 2025-01-01 | RateExpirationDate: 2025-12-31 | PlanId: 19898FL0350001 | RatingAreaId: Rating Area 43 | Tobacco: Tobacco User/Non-Tobacco User | IndividualRate: 1755.48 | IndividualTobaccoRate: 2106.58 | Couple:  | PrimarySubscriberAndOneDependent:  | PrimarySubscriberAndTwoDependents:  | PrimarySubscriberAndThreeOrMoreDependents:  | CoupleAndOneDependent:  | CoupleAndTwoDependents:  | CoupleAndThreeOrMoreDependents:  | StateCode: FL | Age: 64 and over|11    |\n",
      "|2025        |44228   |HIOS      |2025-01-01       |2025-12-31        |44228FL0040001|Rating Area 43|No Preference                |1098.27       |NULL                 |NULL  |NULL                            |NULL                             |NULL                                     |NULL                 |NULL                  |NULL                          |20250430  |FL       |64 and over|BusinessYear: 2025 | IssuerId: 44228 | SourceName: HIOS | RateEffectiveDate: 2025-01-01 | RateExpirationDate: 2025-12-31 | PlanId: 44228FL0040001 | RatingAreaId: Rating Area 43 | Tobacco: No Preference | IndividualRate: 1098.27 | IndividualTobaccoRate:  | Couple:  | PrimarySubscriberAndOneDependent:  | PrimarySubscriberAndTwoDependents:  | PrimarySubscriberAndThreeOrMoreDependents:  | CoupleAndOneDependent:  | CoupleAndTwoDependents:  | CoupleAndThreeOrMoreDependents:  | StateCode: FL | Age: 64 and over                       |12    |\n",
      "|2025        |19898   |HIOS      |2025-01-01       |2025-12-31        |19898FL0350003|Rating Area 43|Tobacco User/Non-Tobacco User|1579.85       |1895.82              |NULL  |NULL                            |NULL                             |NULL                                     |NULL                 |NULL                  |NULL                          |20250430  |FL       |64 and over|BusinessYear: 2025 | IssuerId: 19898 | SourceName: HIOS | RateEffectiveDate: 2025-01-01 | RateExpirationDate: 2025-12-31 | PlanId: 19898FL0350003 | RatingAreaId: Rating Area 43 | Tobacco: Tobacco User/Non-Tobacco User | IndividualRate: 1579.85 | IndividualTobaccoRate: 1895.82 | Couple:  | PrimarySubscriberAndOneDependent:  | PrimarySubscriberAndTwoDependents:  | PrimarySubscriberAndThreeOrMoreDependents:  | CoupleAndOneDependent:  | CoupleAndTwoDependents:  | CoupleAndThreeOrMoreDependents:  | StateCode: FL | Age: 64 and over|13    |\n",
      "|2025        |44228   |HIOS      |2025-01-01       |2025-12-31        |44228FL0040001|Rating Area 48|No Preference                |1061.22       |NULL                 |NULL  |NULL                            |NULL                             |NULL                                     |NULL                 |NULL                  |NULL                          |20250430  |FL       |64 and over|BusinessYear: 2025 | IssuerId: 44228 | SourceName: HIOS | RateEffectiveDate: 2025-01-01 | RateExpirationDate: 2025-12-31 | PlanId: 44228FL0040001 | RatingAreaId: Rating Area 48 | Tobacco: No Preference | IndividualRate: 1061.22 | IndividualTobaccoRate:  | Couple:  | PrimarySubscriberAndOneDependent:  | PrimarySubscriberAndTwoDependents:  | PrimarySubscriberAndThreeOrMoreDependents:  | CoupleAndOneDependent:  | CoupleAndTwoDependents:  | CoupleAndThreeOrMoreDependents:  | StateCode: FL | Age: 64 and over                       |14    |\n",
      "|2025        |19898   |HIOS      |2025-01-01       |2025-12-31        |19898FL0350005|Rating Area 43|Tobacco User/Non-Tobacco User|1537.71       |1845.25              |NULL  |NULL                            |NULL                             |NULL                                     |NULL                 |NULL                  |NULL                          |20250430  |FL       |64 and over|BusinessYear: 2025 | IssuerId: 19898 | SourceName: HIOS | RateEffectiveDate: 2025-01-01 | RateExpirationDate: 2025-12-31 | PlanId: 19898FL0350005 | RatingAreaId: Rating Area 43 | Tobacco: Tobacco User/Non-Tobacco User | IndividualRate: 1537.71 | IndividualTobaccoRate: 1845.25 | Couple:  | PrimarySubscriberAndOneDependent:  | PrimarySubscriberAndTwoDependents:  | PrimarySubscriberAndThreeOrMoreDependents:  | CoupleAndOneDependent:  | CoupleAndTwoDependents:  | CoupleAndThreeOrMoreDependents:  | StateCode: FL | Age: 64 and over|15    |\n",
      "|2025        |44228   |HIOS      |2025-01-01       |2025-12-31        |44228FL0040001|Rating Area 49|No Preference                |1159.29       |NULL                 |NULL  |NULL                            |NULL                             |NULL                                     |NULL                 |NULL                  |NULL                          |20250430  |FL       |64 and over|BusinessYear: 2025 | IssuerId: 44228 | SourceName: HIOS | RateEffectiveDate: 2025-01-01 | RateExpirationDate: 2025-12-31 | PlanId: 44228FL0040001 | RatingAreaId: Rating Area 49 | Tobacco: No Preference | IndividualRate: 1159.29 | IndividualTobaccoRate:  | Couple:  | PrimarySubscriberAndOneDependent:  | PrimarySubscriberAndTwoDependents:  | PrimarySubscriberAndThreeOrMoreDependents:  | CoupleAndOneDependent:  | CoupleAndTwoDependents:  | CoupleAndThreeOrMoreDependents:  | StateCode: FL | Age: 64 and over                       |16    |\n",
      "|2025        |19898   |HIOS      |2025-01-01       |2025-12-31        |19898FL0350011|Rating Area 6 |Tobacco User/Non-Tobacco User|1453.79       |1744.55              |NULL  |NULL                            |NULL                             |NULL                                     |NULL                 |NULL                  |NULL                          |20250430  |FL       |64 and over|BusinessYear: 2025 | IssuerId: 19898 | SourceName: HIOS | RateEffectiveDate: 2025-01-01 | RateExpirationDate: 2025-12-31 | PlanId: 19898FL0350011 | RatingAreaId: Rating Area 6 | Tobacco: Tobacco User/Non-Tobacco User | IndividualRate: 1453.79 | IndividualTobaccoRate: 1744.55 | Couple:  | PrimarySubscriberAndOneDependent:  | PrimarySubscriberAndTwoDependents:  | PrimarySubscriberAndThreeOrMoreDependents:  | CoupleAndOneDependent:  | CoupleAndTwoDependents:  | CoupleAndThreeOrMoreDependents:  | StateCode: FL | Age: 64 and over |17    |\n",
      "|2025        |44228   |HIOS      |2025-01-01       |2025-12-31        |44228FL0040001|Rating Area 50|No Preference                |993.03        |NULL                 |NULL  |NULL                            |NULL                             |NULL                                     |NULL                 |NULL                  |NULL                          |20250430  |FL       |64 and over|BusinessYear: 2025 | IssuerId: 44228 | SourceName: HIOS | RateEffectiveDate: 2025-01-01 | RateExpirationDate: 2025-12-31 | PlanId: 44228FL0040001 | RatingAreaId: Rating Area 50 | Tobacco: No Preference | IndividualRate: 993.03 | IndividualTobaccoRate:  | Couple:  | PrimarySubscriberAndOneDependent:  | PrimarySubscriberAndTwoDependents:  | PrimarySubscriberAndThreeOrMoreDependents:  | CoupleAndOneDependent:  | CoupleAndTwoDependents:  | CoupleAndThreeOrMoreDependents:  | StateCode: FL | Age: 64 and over                        |18    |\n",
      "|2025        |19898   |HIOS      |2025-01-01       |2025-12-31        |19898FL0350011|Rating Area 50|Tobacco User/Non-Tobacco User|1450.08       |1740.1               |NULL  |NULL                            |NULL                             |NULL                                     |NULL                 |NULL                  |NULL                          |20250430  |FL       |64 and over|BusinessYear: 2025 | IssuerId: 19898 | SourceName: HIOS | RateEffectiveDate: 2025-01-01 | RateExpirationDate: 2025-12-31 | PlanId: 19898FL0350011 | RatingAreaId: Rating Area 50 | Tobacco: Tobacco User/Non-Tobacco User | IndividualRate: 1450.08 | IndividualTobaccoRate: 1740.1 | Couple:  | PrimarySubscriberAndOneDependent:  | PrimarySubscriberAndTwoDependents:  | PrimarySubscriberAndThreeOrMoreDependents:  | CoupleAndOneDependent:  | CoupleAndTwoDependents:  | CoupleAndThreeOrMoreDependents:  | StateCode: FL | Age: 64 and over |19    |\n",
      "+------------+--------+----------+-----------------+------------------+--------------+--------------+-----------------------------+--------------+---------------------+------+--------------------------------+---------------------------------+-----------------------------------------+---------------------+----------------------+------------------------------+----------+---------+-----------+---------------------------------------------------------------------------------------------------------------------------------------------------------------------------------------------------------------------------------------------------------------------------------------------------------------------------------------------------------------------------------------------------------------------------------------------------------------------------------------------------------------------------------------------------+------+\n",
      "only showing top 20 rows\n",
      "\n"
     ]
    },
    {
     "name": "stderr",
     "output_type": "stream",
     "text": [
      "                                                                                \r"
     ]
    }
   ],
   "source": [
    "columns_to_use = [col for col in spark_rates_df.columns if col != \"ImportDate\"]\n",
    "\n",
    "# Build full_text expression safely with explicit string casting\n",
    "full_text_expr = f.concat_ws(\" | \", *[\n",
    "    f.concat(f.lit(f\"{col_name}: \"), f.coalesce(f.col(col_name).cast(\"string\"), f.lit(\"\")))\n",
    "    for col_name in columns_to_use\n",
    "])\n",
    "\n",
    "spark_rates_df_gold = spark_rates_df.withColumn(\"full_text\", full_text_expr)\n",
    "spark_rates_df_gold = spark_rates_df_gold.withColumn(\"row_id\", f.monotonically_increasing_id()).orderBy(\"row_id\")\n",
    "spark_rates_df_gold.show(5)"
   ]
  },
  {
   "cell_type": "code",
   "execution_count": null,
   "id": "d8e44e78",
   "metadata": {},
   "outputs": [
    {
     "name": "stderr",
     "output_type": "stream",
     "text": [
      "                                                                                \r"
     ]
    }
   ],
   "source": [
    "# save as Gold dataset\n",
    "# save as Silver dataset\n",
    "dataframe_utils.write_data_spark(file_path=f\"data/gold_{filename}\",file_format='csv',df=spark_rates_df_gold,mode='append',partition_by=['ImportDate','StateCode','Age'],header=True)"
   ]
  }
 ],
 "metadata": {
  "kernelspec": {
   "display_name": "hib_env",
   "language": "python",
   "name": "python3"
  },
  "language_info": {
   "codemirror_mode": {
    "name": "ipython",
    "version": 3
   },
   "file_extension": ".py",
   "mimetype": "text/x-python",
   "name": "python",
   "nbconvert_exporter": "python",
   "pygments_lexer": "ipython3",
   "version": "3.10.16"
  }
 },
 "nbformat": 4,
 "nbformat_minor": 5
}
